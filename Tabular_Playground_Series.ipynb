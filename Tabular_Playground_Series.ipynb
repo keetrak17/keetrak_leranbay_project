{
  "nbformat": 4,
  "nbformat_minor": 0,
  "metadata": {
    "colab": {
      "name": "Tabular_Playground_Series.ipynb",
      "provenance": [],
      "collapsed_sections": [],
      "authorship_tag": "ABX9TyMPb4gSc7L4i355zJ7kt1Y7",
      "include_colab_link": true
    },
    "kernelspec": {
      "name": "python3",
      "display_name": "Python 3"
    },
    "language_info": {
      "name": "python"
    }
  },
  "cells": [
    {
      "cell_type": "markdown",
      "metadata": {
        "id": "view-in-github",
        "colab_type": "text"
      },
      "source": [
        "<a href=\"https://colab.research.google.com/github/keetrak17/keetrak_leranbay_project/blob/main/Tabular_Playground_Series.ipynb\" target=\"_parent\"><img src=\"https://colab.research.google.com/assets/colab-badge.svg\" alt=\"Open In Colab\"/></a>"
      ]
    },
    {
      "cell_type": "code",
      "metadata": {
        "id": "LKhwIz3i8U8L"
      },
      "source": [
        "import numpy as np\n",
        "import pandas as pd\n",
        "import plotly.express as px\n",
        "import seaborn as sns\n",
        "import matplotlib.pyplot as plt\n",
        "import matplotlib\n",
        "%matplotlib inline\n",
        "#plot graphics will appear in your notebook.\n",
        "import openpyxl\n",
        "import sklearn"
      ],
      "execution_count": 57,
      "outputs": []
    },
    {
      "cell_type": "code",
      "metadata": {
        "id": "WvU8GI1U9tlE"
      },
      "source": [
        "ground_train = pd.read_csv(\"/content/train.csv\")\n",
        "ground_test = pd.read_csv(\"/content/test.csv\")"
      ],
      "execution_count": 19,
      "outputs": []
    },
    {
      "cell_type": "markdown",
      "metadata": {
        "id": "uqeYSksJ-6gc"
      },
      "source": [
        "File \"<ipython-input-5-56a9984ae5e9>\", line 1\n",
        "    ground_train = pd.read_csv(\"C:\\Users\\karteek\\Downloads\\train.csv\")\n",
        "                              ^\n",
        "SyntaxError: (unicode error) 'unicodeescape' codec can't decode bytes in position 2-3: truncated \\UXXXXXXXX escape\n",
        "\n",
        "\n",
        "This error occurs because you are using a normal string as a path. You can use one of the three following solutions to fix your problem:\n",
        "\n",
        "1: \n",
        "\n",
        "Just put r before your normal string it converts normal string to raw string:\n",
        "\n",
        "pandas.read_csv(r\"C:\\Users\\DeePak\\Desktop\\myac.csv\")\n",
        "\n",
        "2:\n",
        "\n",
        "pandas.read_csv(\"C:/Users/DeePak/Desktop/myac.csv\")\n",
        "\n",
        "3:\n",
        "\n",
        "pandas.read_csv(\"C:\\\\Users\\\\DeePak\\\\Desktop\\\\myac.csv\")"
      ]
    },
    {
      "cell_type": "code",
      "metadata": {
        "colab": {
          "base_uri": "https://localhost:8080/"
        },
        "id": "WR3f5hWn-6MU",
        "outputId": "a8b5bf9c-3ea8-4cc8-e754-c3d5037c5ae3"
      },
      "source": [
        "print(ground_train.shape)\n",
        "ground_test.shape"
      ],
      "execution_count": 24,
      "outputs": [
        {
          "output_type": "stream",
          "text": [
            "(100000, 52)\n"
          ],
          "name": "stdout"
        },
        {
          "output_type": "execute_result",
          "data": {
            "text/plain": [
              "(50000, 51)"
            ]
          },
          "metadata": {
            "tags": []
          },
          "execution_count": 24
        }
      ]
    },
    {
      "cell_type": "code",
      "metadata": {
        "id": "X0q5GOlmMYDC"
      },
      "source": [
        "from sklearn.model_selection import train_test_split\n",
        "x_train,x_test = train_test_split(ground_train,train_size = 0.8, random_state =42)"
      ],
      "execution_count": 29,
      "outputs": []
    },
    {
      "cell_type": "code",
      "metadata": {
        "colab": {
          "base_uri": "https://localhost:8080/"
        },
        "id": "IOWqE9ozMYPG",
        "outputId": "fc49f0eb-9df3-4ae0-f881-44ea0f463fb7"
      },
      "source": [
        "print(x_train.shape)\n",
        "print(x_test.shape)"
      ],
      "execution_count": 34,
      "outputs": [
        {
          "output_type": "stream",
          "text": [
            "(80000, 52)\n",
            "(20000, 52)\n"
          ],
          "name": "stdout"
        }
      ]
    },
    {
      "cell_type": "code",
      "metadata": {
        "id": "r9PEp8W_aXkq"
      },
      "source": [
        "y_train = x_train.target\n",
        "y_test = x_test.target"
      ],
      "execution_count": 36,
      "outputs": []
    },
    {
      "cell_type": "code",
      "metadata": {
        "colab": {
          "base_uri": "https://localhost:8080/"
        },
        "id": "xPBufePraXvE",
        "outputId": "27814155-1c40-4838-f265-3ecabb1ad672"
      },
      "source": [
        "print(y_train.shape)\n",
        "print(y_test.shape)"
      ],
      "execution_count": 38,
      "outputs": [
        {
          "output_type": "stream",
          "text": [
            "(80000,)\n",
            "(20000,)\n"
          ],
          "name": "stdout"
        }
      ]
    },
    {
      "cell_type": "code",
      "metadata": {
        "colab": {
          "base_uri": "https://localhost:8080/"
        },
        "id": "M0tgsBWtaX_O",
        "outputId": "a17aa2a8-1361-4c42-f5ed-bccdef6b826a"
      },
      "source": [
        "x_train.drop('target',axis = 1,inplace = True)\n",
        "x_test.drop('target',axis =1,inplace = True)"
      ],
      "execution_count": 44,
      "outputs": [
        {
          "output_type": "stream",
          "text": [
            "/usr/local/lib/python3.7/dist-packages/pandas/core/frame.py:4174: SettingWithCopyWarning:\n",
            "\n",
            "\n",
            "A value is trying to be set on a copy of a slice from a DataFrame\n",
            "\n",
            "See the caveats in the documentation: https://pandas.pydata.org/pandas-docs/stable/user_guide/indexing.html#returning-a-view-versus-a-copy\n",
            "\n"
          ],
          "name": "stderr"
        }
      ]
    },
    {
      "cell_type": "code",
      "metadata": {
        "colab": {
          "base_uri": "https://localhost:8080/"
        },
        "id": "JkcxkQ3iaZFl",
        "outputId": "09da76e2-5c28-4223-b3b2-dd4b347db180"
      },
      "source": [
        "sklearn.metrics.SCORERS.keys()"
      ],
      "execution_count": 79,
      "outputs": [
        {
          "output_type": "execute_result",
          "data": {
            "text/plain": [
              "dict_keys(['explained_variance', 'r2', 'max_error', 'neg_median_absolute_error', 'neg_mean_absolute_error', 'neg_mean_squared_error', 'neg_mean_squared_log_error', 'neg_root_mean_squared_error', 'neg_mean_poisson_deviance', 'neg_mean_gamma_deviance', 'accuracy', 'roc_auc', 'roc_auc_ovr', 'roc_auc_ovo', 'roc_auc_ovr_weighted', 'roc_auc_ovo_weighted', 'balanced_accuracy', 'average_precision', 'neg_log_loss', 'neg_brier_score', 'adjusted_rand_score', 'homogeneity_score', 'completeness_score', 'v_measure_score', 'mutual_info_score', 'adjusted_mutual_info_score', 'normalized_mutual_info_score', 'fowlkes_mallows_score', 'precision', 'precision_macro', 'precision_micro', 'precision_samples', 'precision_weighted', 'recall', 'recall_macro', 'recall_micro', 'recall_samples', 'recall_weighted', 'f1', 'f1_macro', 'f1_micro', 'f1_samples', 'f1_weighted', 'jaccard', 'jaccard_macro', 'jaccard_micro', 'jaccard_samples', 'jaccard_weighted'])"
            ]
          },
          "metadata": {
            "tags": []
          },
          "execution_count": 79
        }
      ]
    },
    {
      "cell_type": "code",
      "metadata": {
        "id": "u4a2ephiaY1b"
      },
      "source": [
        "from sklearn.tree import DecisionTreeClassifier\n",
        "\n",
        "clf=DecisionTreeClassifier()\n",
        "\n",
        "params = {\"criterion\": ['gini'],\n",
        "              \"splitter\" : ['best'],\n",
        "              \"max_depth\" : [3],\n",
        "          \"class_weight\" :['balanced'],\n",
        "              \"random_state\" : [42]\n",
        "              }\n",
        "# f1 = sk.metrics.f1_score(y_true = y_train,y_pred = x_train,average ='weighted')\n",
        "grid_search = sk.model_selection.GridSearchCV(estimator = clf,param_grid = params,cv = 5,scoring = 'f1_weighted', return_train_score=True)"
      ],
      "execution_count": 93,
      "outputs": []
    },
    {
      "cell_type": "code",
      "metadata": {
        "colab": {
          "base_uri": "https://localhost:8080/"
        },
        "id": "4iyX60NWaZBc",
        "outputId": "4d17a6bb-c625-4277-d897-e43b6497778a"
      },
      "source": [
        "grid_search.fit(x_train,y_train)"
      ],
      "execution_count": 94,
      "outputs": [
        {
          "output_type": "execute_result",
          "data": {
            "text/plain": [
              "GridSearchCV(cv=5, error_score=nan,\n",
              "             estimator=DecisionTreeClassifier(ccp_alpha=0.0, class_weight=None,\n",
              "                                              criterion='gini', max_depth=None,\n",
              "                                              max_features=None,\n",
              "                                              max_leaf_nodes=None,\n",
              "                                              min_impurity_decrease=0.0,\n",
              "                                              min_impurity_split=None,\n",
              "                                              min_samples_leaf=1,\n",
              "                                              min_samples_split=2,\n",
              "                                              min_weight_fraction_leaf=0.0,\n",
              "                                              presort='deprecated',\n",
              "                                              random_state=None,\n",
              "                                              splitter='best'),\n",
              "             iid='deprecated', n_jobs=None,\n",
              "             param_grid={'class_weight': ['balanced'], 'criterion': ['gini'],\n",
              "                         'max_depth': [3], 'random_state': [42],\n",
              "                         'splitter': ['best']},\n",
              "             pre_dispatch='2*n_jobs', refit=True, return_train_score=True,\n",
              "             scoring='f1_weighted', verbose=0)"
            ]
          },
          "metadata": {
            "tags": []
          },
          "execution_count": 94
        }
      ]
    },
    {
      "cell_type": "code",
      "metadata": {
        "colab": {
          "base_uri": "https://localhost:8080/"
        },
        "id": "wz7RFf-IaV0f",
        "outputId": "fd7016aa-b8a6-42d5-a6cd-96d01803325d"
      },
      "source": [
        "list(grid_search.cv_results_.keys())"
      ],
      "execution_count": 89,
      "outputs": [
        {
          "output_type": "execute_result",
          "data": {
            "text/plain": [
              "['mean_fit_time',\n",
              " 'std_fit_time',\n",
              " 'mean_score_time',\n",
              " 'std_score_time',\n",
              " 'param_class_weight',\n",
              " 'param_criterion',\n",
              " 'param_max_depth',\n",
              " 'param_random_state',\n",
              " 'param_splitter',\n",
              " 'params',\n",
              " 'split0_test_score',\n",
              " 'split1_test_score',\n",
              " 'split2_test_score',\n",
              " 'split3_test_score',\n",
              " 'split4_test_score',\n",
              " 'mean_test_score',\n",
              " 'std_test_score',\n",
              " 'rank_test_score',\n",
              " 'split0_train_score',\n",
              " 'split1_train_score',\n",
              " 'split2_train_score',\n",
              " 'split3_train_score',\n",
              " 'split4_train_score',\n",
              " 'mean_train_score',\n",
              " 'std_train_score']"
            ]
          },
          "metadata": {
            "tags": []
          },
          "execution_count": 89
        }
      ]
    },
    {
      "cell_type": "code",
      "metadata": {
        "colab": {
          "base_uri": "https://localhost:8080/"
        },
        "id": "31p7Z6u87i3D",
        "outputId": "a95150dc-53cb-454f-a19b-03e51c8721bc"
      },
      "source": [
        "grid_search.cv_results_['params']\n",
        "print(grid_search.cv_results_['mean_test_score'])\n",
        "print(grid_search.cv_results_['mean_train_score'])"
      ],
      "execution_count": 97,
      "outputs": [
        {
          "output_type": "stream",
          "text": [
            "[0.09156567]\n",
            "[0.09288382]\n"
          ],
          "name": "stdout"
        }
      ]
    },
    {
      "cell_type": "code",
      "metadata": {
        "colab": {
          "base_uri": "https://localhost:8080/"
        },
        "id": "sxWcT2hz7jFT",
        "outputId": "19980e0e-dccd-46c3-ff91-ca56b29ba3e9"
      },
      "source": [
        "print(grid_search.best_estimator_)"
      ],
      "execution_count": 96,
      "outputs": [
        {
          "output_type": "stream",
          "text": [
            "DecisionTreeClassifier(ccp_alpha=0.0, class_weight='balanced', criterion='gini',\n",
            "                       max_depth=3, max_features=None, max_leaf_nodes=None,\n",
            "                       min_impurity_decrease=0.0, min_impurity_split=None,\n",
            "                       min_samples_leaf=1, min_samples_split=2,\n",
            "                       min_weight_fraction_leaf=0.0, presort='deprecated',\n",
            "                       random_state=42, splitter='best')\n"
          ],
          "name": "stdout"
        }
      ]
    },
    {
      "cell_type": "code",
      "metadata": {
        "id": "tt_H7--Z7jIy"
      },
      "source": [
        "pred = grid_search.predict(x_test)"
      ],
      "execution_count": 101,
      "outputs": []
    },
    {
      "cell_type": "code",
      "metadata": {
        "colab": {
          "base_uri": "https://localhost:8080/"
        },
        "id": "jG14Wk859Vrh",
        "outputId": "c257ef09-09a6-4cf3-a97d-4c1ae196542f"
      },
      "source": [
        "print(sk.metrics.f1_score(y_test,pred,average = 'weighted'))"
      ],
      "execution_count": 103,
      "outputs": [
        {
          "output_type": "stream",
          "text": [
            "0.08441978170205174\n"
          ],
          "name": "stdout"
        }
      ]
    },
    {
      "cell_type": "code",
      "metadata": {
        "id": "CCSpGFUK9WFc"
      },
      "source": [
        "pred_val = grid_search.predict(ground_test)"
      ],
      "execution_count": 104,
      "outputs": []
    },
    {
      "cell_type": "code",
      "metadata": {
        "colab": {
          "base_uri": "https://localhost:8080/"
        },
        "id": "qTC7F7uk9WI2",
        "outputId": "b3ce2a19-20b4-44ee-a02b-29f09313c100"
      },
      "source": [
        "pred_val"
      ],
      "execution_count": 105,
      "outputs": [
        {
          "output_type": "execute_result",
          "data": {
            "text/plain": [
              "array(['Class_1', 'Class_3', 'Class_4', ..., 'Class_4', 'Class_4',\n",
              "       'Class_4'], dtype=object)"
            ]
          },
          "metadata": {
            "tags": []
          },
          "execution_count": 105
        }
      ]
    }
  ]
}