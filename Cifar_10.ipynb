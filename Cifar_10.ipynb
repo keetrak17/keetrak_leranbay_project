{
  "nbformat": 4,
  "nbformat_minor": 0,
  "metadata": {
    "colab": {
      "name": "Cifar-10.ipynb",
      "provenance": [],
      "collapsed_sections": [],
      "mount_file_id": "1r7XSW5qfCXtkW7RBsi74jaxSA9VEnOl3",
      "authorship_tag": "ABX9TyORNSNY9aXsg59UArJMJ7/U",
      "include_colab_link": true
    },
    "kernelspec": {
      "name": "python3",
      "display_name": "Python 3"
    },
    "language_info": {
      "name": "python"
    },
    "accelerator": "GPU"
  },
  "cells": [
    {
      "cell_type": "markdown",
      "metadata": {
        "id": "view-in-github",
        "colab_type": "text"
      },
      "source": [
        "<a href=\"https://colab.research.google.com/github/keetrak17/keetrak_leranbay_project/blob/main/Cifar_10.ipynb\" target=\"_parent\"><img src=\"https://colab.research.google.com/assets/colab-badge.svg\" alt=\"Open In Colab\"/></a>"
      ]
    },
    {
      "cell_type": "code",
      "metadata": {
        "id": "Wqvg6tXDsEsX"
      },
      "source": [
        "# import all the libraries\n",
        "import tensorflow\n",
        "import matplotlib.pyplot as plt\n",
        "\n",
        "from tensorflow.keras.layers import Conv2D, MaxPool2D, Flatten, Dense, Dropout\n",
        "from tensorflow.keras.models import Sequential\n",
        "from tensorflow.keras.datasets import cifar10"
      ],
      "execution_count": 29,
      "outputs": []
    },
    {
      "cell_type": "code",
      "metadata": {
        "id": "UZnGIydbt-DG"
      },
      "source": [
        " # loading the dataset\n",
        " (x_train, y_train), (x_test, y_test) = cifar10.load_data()"
      ],
      "execution_count": 30,
      "outputs": []
    },
    {
      "cell_type": "code",
      "metadata": {
        "colab": {
          "base_uri": "https://localhost:8080/"
        },
        "id": "4rg3oLMgt-Kp",
        "outputId": "b4e8d97d-a6f1-4459-f6a8-c55d1290b7d6"
      },
      "source": [
        "print(x_train.shape)\n",
        "print(x_test.shape)\n",
        "print(y_train.shape)\n",
        "print(y_test.shape)"
      ],
      "execution_count": 31,
      "outputs": [
        {
          "output_type": "stream",
          "text": [
            "(50000, 32, 32, 3)\n",
            "(10000, 32, 32, 3)\n",
            "(50000, 1)\n",
            "(10000, 1)\n"
          ],
          "name": "stdout"
        }
      ]
    },
    {
      "cell_type": "code",
      "metadata": {
        "id": "4JzMp8F5t-Nf"
      },
      "source": [
        "classes = ['airplane','autoobile','bird','cat','deer','dog','frog','horse','ship','truck']"
      ],
      "execution_count": 32,
      "outputs": []
    },
    {
      "cell_type": "code",
      "metadata": {
        "colab": {
          "base_uri": "https://localhost:8080/",
          "height": 284
        },
        "id": "ZaCFXj8lt-P9",
        "outputId": "4a2294e0-ce2d-4397-d3ad-c71edad7b3d5"
      },
      "source": [
        "# visuaizing the data\n",
        "plt.imshow(x_train[1000])\n",
        "classes[y_train[1000][0]]"
      ],
      "execution_count": 33,
      "outputs": [
        {
          "output_type": "execute_result",
          "data": {
            "application/vnd.google.colaboratory.intrinsic+json": {
              "type": "string"
            },
            "text/plain": [
              "'truck'"
            ]
          },
          "metadata": {},
          "execution_count": 33
        },
        {
          "output_type": "display_data",
          "data": {
            "image/png": "[encoded data removed]",
            "text/plain": [
              "<Figure size 432x288 with 1 Axes>"
            ]
          },
          "metadata": {
            "needs_background": "light"
          }
        }
      ]
    },
    {
      "cell_type": "code",
      "metadata": {
        "id": "WX8iKowOt-Sh"
      },
      "source": [
        "# normalise the image\n",
        "x_train, x_test = x_train/255, x_test/255"
      ],
      "execution_count": 34,
      "outputs": []
    },
    {
      "cell_type": "code",
      "metadata": {
        "id": "7DN1Q5Cht-Vl"
      },
      "source": [
        "# 1) model architecture\n",
        "# 2) compile\n",
        "# 3) fit"
      ],
      "execution_count": 35,
      "outputs": []
    },
    {
      "cell_type": "code",
      "metadata": {
        "id": "kxyNv8IEt-YT"
      },
      "source": [
        "# model architecture\n",
        "model = Sequential()\n",
        "# Conv layer 1\n",
        "model.add(Conv2D(filters = 10, kernel_size = 3,strides = 1,padding = 'valid',activation = 'relu',kernel_initializer='he_normal'))\n",
        "model.add(MaxPool2D())\n",
        "\n",
        "# Conv layer 2\n",
        "model.add(Conv2D(filters = 20, kernel_size = 3,strides = 1,padding = 'valid',activation = 'relu',kernel_initializer='he_uniform'))\n",
        "model.add(MaxPool2D())\n",
        "\n",
        "# Conv layer 3\n",
        "model.add(Conv2D(filters = 40, kernel_size = 3,strides = 1,padding = 'valid',activation = 'relu',kernel_initializer='he_uniform'))\n",
        "model.add(MaxPool2D())\n",
        "# no of filters usually double for every additional conv layer\n",
        "# flatten\n",
        "model.add(Flatten())\n",
        "\n",
        "# hidden layer 1\n",
        "model.add(Dense(128, activation = 'sigmoid'))\n",
        "\n",
        "# hidden layer 2\n",
        "model.add(Dense(64, activation = 'relu'))\n",
        "\n",
        "# hidden layer 3\n",
        "model.add(Dense(32, activation = 'sigmoid'))\n",
        "\n",
        "# output layer \n",
        "model.add(Dense(10, activation ='softmax'))\n",
        "\n"
      ],
      "execution_count": 36,
      "outputs": []
    },
    {
      "cell_type": "code",
      "metadata": {
        "id": "xby9TotOt-bN"
      },
      "source": [
        "# copile\n",
        "model.compile(optimizer='adam', loss = tensorflow.keras.losses.SparseCategoricalCrossentropy(), metrics = ['accuracy'])"
      ],
      "execution_count": 39,
      "outputs": []
    },
    {
      "cell_type": "code",
      "metadata": {
        "colab": {
          "base_uri": "https://localhost:8080/"
        },
        "id": "-8pDezfaR5lZ",
        "outputId": "4c49dd19-7797-46da-c70a-06679527fbe8"
      },
      "source": [
        "# fit\n",
        "model.fit(x_train, y_train, epochs= 50,batch_size =32)"
      ],
      "execution_count": 40,
      "outputs": [
        {
          "output_type": "stream",
          "text": [
            "Epoch 1/50\n",
            "1563/1563 [==============================] - 36s 5ms/step - loss: 1.7681 - accuracy: 0.3418\n",
            "Epoch 2/50\n",
            "1563/1563 [==============================] - 8s 5ms/step - loss: 1.4229 - accuracy: 0.4827\n",
            "Epoch 3/50\n",
            "1563/1563 [==============================] - 8s 5ms/step - loss: 1.2842 - accuracy: 0.5384\n",
            "Epoch 4/50\n",
            "1563/1563 [==============================] - 8s 5ms/step - loss: 1.1918 - accuracy: 0.5725\n",
            "Epoch 5/50\n",
            "1563/1563 [==============================] - 8s 5ms/step - loss: 1.1177 - accuracy: 0.6022\n",
            "Epoch 6/50\n",
            "1563/1563 [==============================] - 8s 5ms/step - loss: 1.0642 - accuracy: 0.6233\n",
            "Epoch 7/50\n",
            "1563/1563 [==============================] - 8s 5ms/step - loss: 1.0129 - accuracy: 0.6437\n",
            "Epoch 8/50\n",
            "1563/1563 [==============================] - 8s 5ms/step - loss: 0.9764 - accuracy: 0.6573\n",
            "Epoch 9/50\n",
            "1563/1563 [==============================] - 8s 5ms/step - loss: 0.9361 - accuracy: 0.6713\n",
            "Epoch 10/50\n",
            "1563/1563 [==============================] - 8s 5ms/step - loss: 0.9043 - accuracy: 0.6837\n",
            "Epoch 11/50\n",
            "1563/1563 [==============================] - 8s 5ms/step - loss: 0.8765 - accuracy: 0.6939\n",
            "Epoch 12/50\n",
            "1563/1563 [==============================] - 8s 5ms/step - loss: 0.8541 - accuracy: 0.7012\n",
            "Epoch 13/50\n",
            "1563/1563 [==============================] - 8s 5ms/step - loss: 0.8266 - accuracy: 0.7137\n",
            "Epoch 14/50\n",
            "1563/1563 [==============================] - 8s 5ms/step - loss: 0.7996 - accuracy: 0.7220\n",
            "Epoch 15/50\n",
            "1563/1563 [==============================] - 8s 5ms/step - loss: 0.7810 - accuracy: 0.7279\n",
            "Epoch 16/50\n",
            "1563/1563 [==============================] - 8s 5ms/step - loss: 0.7617 - accuracy: 0.7347\n",
            "Epoch 17/50\n",
            "1563/1563 [==============================] - 8s 5ms/step - loss: 0.7437 - accuracy: 0.7396\n",
            "Epoch 18/50\n",
            "1563/1563 [==============================] - 8s 5ms/step - loss: 0.7236 - accuracy: 0.7481\n",
            "Epoch 19/50\n",
            "1563/1563 [==============================] - 8s 5ms/step - loss: 0.7072 - accuracy: 0.7537\n",
            "Epoch 20/50\n",
            "1563/1563 [==============================] - 8s 5ms/step - loss: 0.6908 - accuracy: 0.7596\n",
            "Epoch 21/50\n",
            "1563/1563 [==============================] - 8s 5ms/step - loss: 0.6749 - accuracy: 0.7644\n",
            "Epoch 22/50\n",
            "1563/1563 [==============================] - 8s 5ms/step - loss: 0.6647 - accuracy: 0.7694\n",
            "Epoch 23/50\n",
            "1563/1563 [==============================] - 8s 5ms/step - loss: 0.6497 - accuracy: 0.7749\n",
            "Epoch 24/50\n",
            "1563/1563 [==============================] - 8s 5ms/step - loss: 0.6393 - accuracy: 0.7781\n",
            "Epoch 25/50\n",
            "1563/1563 [==============================] - 8s 5ms/step - loss: 0.6252 - accuracy: 0.7824\n",
            "Epoch 26/50\n",
            "1563/1563 [==============================] - 8s 5ms/step - loss: 0.6097 - accuracy: 0.7881\n",
            "Epoch 27/50\n",
            "1563/1563 [==============================] - 8s 5ms/step - loss: 0.6022 - accuracy: 0.7908\n",
            "Epoch 28/50\n",
            "1563/1563 [==============================] - 8s 5ms/step - loss: 0.5886 - accuracy: 0.7943\n",
            "Epoch 29/50\n",
            "1563/1563 [==============================] - 8s 5ms/step - loss: 0.5776 - accuracy: 0.7992\n",
            "Epoch 30/50\n",
            "1563/1563 [==============================] - 8s 5ms/step - loss: 0.5728 - accuracy: 0.7996\n",
            "Epoch 31/50\n",
            "1563/1563 [==============================] - 8s 5ms/step - loss: 0.5581 - accuracy: 0.8042\n",
            "Epoch 32/50\n",
            "1563/1563 [==============================] - 8s 5ms/step - loss: 0.5498 - accuracy: 0.8088\n",
            "Epoch 33/50\n",
            "1563/1563 [==============================] - 8s 5ms/step - loss: 0.5395 - accuracy: 0.8117\n",
            "Epoch 34/50\n",
            "1563/1563 [==============================] - 8s 5ms/step - loss: 0.5309 - accuracy: 0.8150\n",
            "Epoch 35/50\n",
            "1563/1563 [==============================] - 8s 5ms/step - loss: 0.5232 - accuracy: 0.8169\n",
            "Epoch 36/50\n",
            "1563/1563 [==============================] - 8s 5ms/step - loss: 0.5125 - accuracy: 0.8227\n",
            "Epoch 37/50\n",
            "1563/1563 [==============================] - 8s 5ms/step - loss: 0.5077 - accuracy: 0.8234\n",
            "Epoch 38/50\n",
            "1563/1563 [==============================] - 8s 5ms/step - loss: 0.4998 - accuracy: 0.8250\n",
            "Epoch 39/50\n",
            "1563/1563 [==============================] - 8s 5ms/step - loss: 0.4919 - accuracy: 0.8286\n",
            "Epoch 40/50\n",
            "1563/1563 [==============================] - 8s 5ms/step - loss: 0.4863 - accuracy: 0.8292\n",
            "Epoch 41/50\n",
            "1563/1563 [==============================] - 8s 5ms/step - loss: 0.4753 - accuracy: 0.8331\n",
            "Epoch 42/50\n",
            "1563/1563 [==============================] - 8s 5ms/step - loss: 0.4732 - accuracy: 0.8350\n",
            "Epoch 43/50\n",
            "1563/1563 [==============================] - 8s 5ms/step - loss: 0.4648 - accuracy: 0.8383\n",
            "Epoch 44/50\n",
            "1563/1563 [==============================] - 8s 5ms/step - loss: 0.4515 - accuracy: 0.8424\n",
            "Epoch 45/50\n",
            "1563/1563 [==============================] - 8s 5ms/step - loss: 0.4524 - accuracy: 0.8405\n",
            "Epoch 46/50\n",
            "1563/1563 [==============================] - 8s 5ms/step - loss: 0.4479 - accuracy: 0.8435\n",
            "Epoch 47/50\n",
            "1563/1563 [==============================] - 8s 5ms/step - loss: 0.4420 - accuracy: 0.8456\n",
            "Epoch 48/50\n",
            "1563/1563 [==============================] - 8s 5ms/step - loss: 0.4355 - accuracy: 0.8470\n",
            "Epoch 49/50\n",
            "1563/1563 [==============================] - 8s 5ms/step - loss: 0.4317 - accuracy: 0.8493\n",
            "Epoch 50/50\n",
            "1563/1563 [==============================] - 8s 5ms/step - loss: 0.4318 - accuracy: 0.8489\n"
          ],
          "name": "stdout"
        },
        {
          "output_type": "execute_result",
          "data": {
            "text/plain": [
              "<keras.callbacks.History at 0x7f82fb870d90>"
            ]
          },
          "metadata": {},
          "execution_count": 40
        }
      ]
    },
    {
      "cell_type": "code",
      "metadata": {
        "colab": {
          "base_uri": "https://localhost:8080/"
        },
        "id": "q-I5THFlR5pJ",
        "outputId": "365f8f56-5676-478f-fb8f-56c71095a130"
      },
      "source": [
        "# test data evaluation\n",
        "model.evaluate(x_test, y_test)"
      ],
      "execution_count": 41,
      "outputs": [
        {
          "output_type": "stream",
          "text": [
            "313/313 [==============================] - 1s 3ms/step - loss: 1.3966 - accuracy: 0.6241\n"
          ],
          "name": "stdout"
        },
        {
          "output_type": "execute_result",
          "data": {
            "text/plain": [
              "[1.3966140747070312, 0.6241000294685364]"
            ]
          },
          "metadata": {},
          "execution_count": 41
        }
      ]
    },
    {
      "cell_type": "code",
      "metadata": {
        "id": "rH8QAcMuR5rs"
      },
      "source": [
        "y_pred = model.predict(x_test)"
      ],
      "execution_count": 42,
      "outputs": []
    },
    {
      "cell_type": "code",
      "metadata": {
        "colab": {
          "base_uri": "https://localhost:8080/"
        },
        "id": "7vBEkrWdU9do",
        "outputId": "c645b866-143c-4d2e-d70d-e483ee7ac618"
      },
      "source": [
        "y_pred[0]"
      ],
      "execution_count": 44,
      "outputs": [
        {
          "output_type": "execute_result",
          "data": {
            "text/plain": [
              "array([1.4168012e-05, 5.5907125e-04, 9.1506243e-03, 5.6208456e-01,\n",
              "       4.7163069e-03, 3.9980200e-01, 5.4469337e-03, 1.4674435e-02,\n",
              "       3.3920816e-05, 3.5179786e-03], dtype=float32)"
            ]
          },
          "metadata": {},
          "execution_count": 44
        }
      ]
    },
    {
      "cell_type": "code",
      "metadata": {
        "id": "YKzu26azWR9J"
      },
      "source": [
        "image_row = 1001"
      ],
      "execution_count": 64,
      "outputs": []
    },
    {
      "cell_type": "code",
      "metadata": {
        "colab": {
          "base_uri": "https://localhost:8080/",
          "height": 35
        },
        "id": "L1vR0CpRU9ha",
        "outputId": "f11467b3-f6bc-4734-fd55-cd40ab01b29c"
      },
      "source": [
        "import numpy as np\n",
        "classes[np.argmax(y_pred[image_row])]"
      ],
      "execution_count": 65,
      "outputs": [
        {
          "output_type": "execute_result",
          "data": {
            "application/vnd.google.colaboratory.intrinsic+json": {
              "type": "string"
            },
            "text/plain": [
              "'truck'"
            ]
          },
          "metadata": {},
          "execution_count": 65
        }
      ]
    },
    {
      "cell_type": "code",
      "metadata": {
        "colab": {
          "base_uri": "https://localhost:8080/",
          "height": 284
        },
        "id": "YfiQVvw3Vlk7",
        "outputId": "30d3477a-6544-4ccb-aacb-4077810eb9f4"
      },
      "source": [
        "plt.imshow(x_test[image_row])\n",
        "classes[y_test[image_row][0]]"
      ],
      "execution_count": 66,
      "outputs": [
        {
          "output_type": "execute_result",
          "data": {
            "application/vnd.google.colaboratory.intrinsic+json": {
              "type": "string"
            },
            "text/plain": [
              "'airplane'"
            ]
          },
          "metadata": {},
          "execution_count": 66
        },
        {
          "output_type": "display_data",
          "data": {
            "image/png": "[encoded data removed]",
            "text/plain": [
              "<Figure size 432x288 with 1 Axes>"
            ]
          },
          "metadata": {
            "needs_background": "light"
          }
        }
      ]
    },
    {
      "cell_type": "code",
      "metadata": {
        "id": "RAFrToSvWiOW"
      },
      "source": [
        ""
      ],
      "execution_count": null,
      "outputs": []
    },
    {
      "cell_type": "code",
      "metadata": {
        "id": "cVk_wStbWiRd"
      },
      "source": [
        ""
      ],
      "execution_count": null,
      "outputs": []
    },
    {
      "cell_type": "code",
      "metadata": {
        "id": "7f5uowz2WiT_"
      },
      "source": [
        ""
      ],
      "execution_count": null,
      "outputs": []
    }
  ]
}